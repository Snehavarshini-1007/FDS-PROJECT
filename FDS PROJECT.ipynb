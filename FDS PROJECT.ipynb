{
  "nbformat": 4,
  "nbformat_minor": 0,
  "metadata": {
    "colab": {
      "provenance": []
    },
    "kernelspec": {
      "name": "python3",
      "display_name": "Python 3"
    },
    "language_info": {
      "name": "python"
    }
  },
  "cells": [
    {
      "cell_type": "code",
      "execution_count": null,
      "metadata": {
        "colab": {
          "base_uri": "https://localhost:8080/"
        },
        "id": "tfxxf6-wsmLs",
        "outputId": "67cee525-f6d9-4397-e1e2-84b96ccd1a7b"
      },
      "outputs": [
        {
          "output_type": "stream",
          "name": "stdout",
          "text": [
            "Looking in indexes: https://pypi.org/simple, https://us-python.pkg.dev/colab-wheels/public/simple/\n",
            "Requirement already satisfied: torch==1.8.1 in /usr/local/lib/python3.8/dist-packages (1.8.1)\n",
            "Requirement already satisfied: numpy in /usr/local/lib/python3.8/dist-packages (from torch==1.8.1) (1.21.6)\n",
            "Requirement already satisfied: typing-extensions in /usr/local/lib/python3.8/dist-packages (from torch==1.8.1) (4.4.0)\n",
            "Looking in indexes: https://pypi.org/simple, https://us-python.pkg.dev/colab-wheels/public/simple/\n",
            "Requirement already satisfied: torchtext==0.9.1 in /usr/local/lib/python3.8/dist-packages (0.9.1)\n",
            "Requirement already satisfied: numpy in /usr/local/lib/python3.8/dist-packages (from torchtext==0.9.1) (1.21.6)\n",
            "Requirement already satisfied: tqdm in /usr/local/lib/python3.8/dist-packages (from torchtext==0.9.1) (4.64.1)\n",
            "Requirement already satisfied: requests in /usr/local/lib/python3.8/dist-packages (from torchtext==0.9.1) (2.23.0)\n",
            "Requirement already satisfied: torch==1.8.1 in /usr/local/lib/python3.8/dist-packages (from torchtext==0.9.1) (1.8.1)\n",
            "Requirement already satisfied: typing-extensions in /usr/local/lib/python3.8/dist-packages (from torch==1.8.1->torchtext==0.9.1) (4.4.0)\n",
            "Requirement already satisfied: certifi>=2017.4.17 in /usr/local/lib/python3.8/dist-packages (from requests->torchtext==0.9.1) (2022.9.24)\n",
            "Requirement already satisfied: idna<3,>=2.5 in /usr/local/lib/python3.8/dist-packages (from requests->torchtext==0.9.1) (2.10)\n",
            "Requirement already satisfied: urllib3!=1.25.0,!=1.25.1,<1.26,>=1.21.1 in /usr/local/lib/python3.8/dist-packages (from requests->torchtext==0.9.1) (1.24.3)\n",
            "Requirement already satisfied: chardet<4,>=3.0.2 in /usr/local/lib/python3.8/dist-packages (from requests->torchtext==0.9.1) (3.0.4)\n"
          ]
        }
      ],
      "source": [
        "!pip install torch==1.8.1\n",
        "!pip install torchtext==0.9.1"
      ]
    },
    {
      "cell_type": "code",
      "source": [
        "import numpy as np\n",
        "import pandas as pd\n",
        "import re\n",
        "import nltk\n",
        "import seaborn as sns\n",
        "import matplotlib.pyplot as plt\n",
        "import matplotlib as mpl\n",
        "from tqdm.notebook import tqdm\n",
        "from time import time\n",
        "import torch\n",
        "import torch.nn as nn\n",
        "import torch.utils.data\n",
        "import time\n",
        "import torch.nn.functional as F\n",
        "import torchtext\n",
        "from torchtext.legacy import data\n",
        "from torchtext.legacy.data import Field, LabelField\n",
        "from torchtext.legacy.data import TabularDataset, BucketIterator\n",
        "from sklearn.linear_model import LogisticRegression\n",
        "from sklearn.svm import SVC, LinearSVC\n",
        "from sklearn.ensemble import RandomForestClassifier\n",
        "from sklearn.naive_bayes import GaussianNB\n",
        "from sklearn.metrics import classification_report, confusion_matrix\n",
        "\n",
        "import warnings\n",
        "warnings.filterwarnings(action='ignore')"
      ],
      "metadata": {
        "id": "ykPYb7oitsbq"
      },
      "execution_count": null,
      "outputs": []
    },
    {
      "cell_type": "code",
      "source": [
        "df = pd.read_csv(\"/content/NewsCategorizer.csv\")\n",
        "df.head()"
      ],
      "metadata": {
        "id": "uEJD9si4uTEF",
        "colab": {
          "base_uri": "https://localhost:8080/",
          "height": 337
        },
        "outputId": "ef232cbf-feb5-453e-f710-a6670217eeae"
      },
      "execution_count": null,
      "outputs": [
        {
          "output_type": "execute_result",
          "data": {
            "text/plain": [
              "   category                                           headline  \\\n",
              "0  WELLNESS              143 Miles in 35 Days: Lessons Learned   \n",
              "1  WELLNESS       Talking to Yourself: Crazy or Crazy Helpful?   \n",
              "2  WELLNESS  Crenezumab: Trial Will Gauge Whether Alzheimer...   \n",
              "3  WELLNESS                     Oh, What a Difference She Made   \n",
              "4  WELLNESS                                   Green Superfoods   \n",
              "\n",
              "                                               links  \\\n",
              "0  https://www.huffingtonpost.com/entry/running-l...   \n",
              "1  https://www.huffingtonpost.com/entry/talking-t...   \n",
              "2  https://www.huffingtonpost.com/entry/crenezuma...   \n",
              "3  https://www.huffingtonpost.com/entry/meaningfu...   \n",
              "4  https://www.huffingtonpost.com/entry/green-sup...   \n",
              "\n",
              "                                   short_description  \\\n",
              "0  Resting is part of training. I've confirmed wh...   \n",
              "1  Think of talking to yourself as a tool to coac...   \n",
              "2  The clock is ticking for the United States to ...   \n",
              "3  If you want to be busy, keep trying to be perf...   \n",
              "4  First, the bad news: Soda bread, corned beef a...   \n",
              "\n",
              "                             keywords  \n",
              "0                     running-lessons  \n",
              "1           talking-to-yourself-crazy  \n",
              "2  crenezumab-alzheimers-disease-drug  \n",
              "3                     meaningful-life  \n",
              "4                    green-superfoods  "
            ],
            "text/html": [
              "\n",
              "  <div id=\"df-b7b450fd-74fe-4e14-8d0e-4787d550dd4c\">\n",
              "    <div class=\"colab-df-container\">\n",
              "      <div>\n",
              "<style scoped>\n",
              "    .dataframe tbody tr th:only-of-type {\n",
              "        vertical-align: middle;\n",
              "    }\n",
              "\n",
              "    .dataframe tbody tr th {\n",
              "        vertical-align: top;\n",
              "    }\n",
              "\n",
              "    .dataframe thead th {\n",
              "        text-align: right;\n",
              "    }\n",
              "</style>\n",
              "<table border=\"1\" class=\"dataframe\">\n",
              "  <thead>\n",
              "    <tr style=\"text-align: right;\">\n",
              "      <th></th>\n",
              "      <th>category</th>\n",
              "      <th>headline</th>\n",
              "      <th>links</th>\n",
              "      <th>short_description</th>\n",
              "      <th>keywords</th>\n",
              "    </tr>\n",
              "  </thead>\n",
              "  <tbody>\n",
              "    <tr>\n",
              "      <th>0</th>\n",
              "      <td>WELLNESS</td>\n",
              "      <td>143 Miles in 35 Days: Lessons Learned</td>\n",
              "      <td>https://www.huffingtonpost.com/entry/running-l...</td>\n",
              "      <td>Resting is part of training. I've confirmed wh...</td>\n",
              "      <td>running-lessons</td>\n",
              "    </tr>\n",
              "    <tr>\n",
              "      <th>1</th>\n",
              "      <td>WELLNESS</td>\n",
              "      <td>Talking to Yourself: Crazy or Crazy Helpful?</td>\n",
              "      <td>https://www.huffingtonpost.com/entry/talking-t...</td>\n",
              "      <td>Think of talking to yourself as a tool to coac...</td>\n",
              "      <td>talking-to-yourself-crazy</td>\n",
              "    </tr>\n",
              "    <tr>\n",
              "      <th>2</th>\n",
              "      <td>WELLNESS</td>\n",
              "      <td>Crenezumab: Trial Will Gauge Whether Alzheimer...</td>\n",
              "      <td>https://www.huffingtonpost.com/entry/crenezuma...</td>\n",
              "      <td>The clock is ticking for the United States to ...</td>\n",
              "      <td>crenezumab-alzheimers-disease-drug</td>\n",
              "    </tr>\n",
              "    <tr>\n",
              "      <th>3</th>\n",
              "      <td>WELLNESS</td>\n",
              "      <td>Oh, What a Difference She Made</td>\n",
              "      <td>https://www.huffingtonpost.com/entry/meaningfu...</td>\n",
              "      <td>If you want to be busy, keep trying to be perf...</td>\n",
              "      <td>meaningful-life</td>\n",
              "    </tr>\n",
              "    <tr>\n",
              "      <th>4</th>\n",
              "      <td>WELLNESS</td>\n",
              "      <td>Green Superfoods</td>\n",
              "      <td>https://www.huffingtonpost.com/entry/green-sup...</td>\n",
              "      <td>First, the bad news: Soda bread, corned beef a...</td>\n",
              "      <td>green-superfoods</td>\n",
              "    </tr>\n",
              "  </tbody>\n",
              "</table>\n",
              "</div>\n",
              "      <button class=\"colab-df-convert\" onclick=\"convertToInteractive('df-b7b450fd-74fe-4e14-8d0e-4787d550dd4c')\"\n",
              "              title=\"Convert this dataframe to an interactive table.\"\n",
              "              style=\"display:none;\">\n",
              "        \n",
              "  <svg xmlns=\"http://www.w3.org/2000/svg\" height=\"24px\"viewBox=\"0 0 24 24\"\n",
              "       width=\"24px\">\n",
              "    <path d=\"M0 0h24v24H0V0z\" fill=\"none\"/>\n",
              "    <path d=\"M18.56 5.44l.94 2.06.94-2.06 2.06-.94-2.06-.94-.94-2.06-.94 2.06-2.06.94zm-11 1L8.5 8.5l.94-2.06 2.06-.94-2.06-.94L8.5 2.5l-.94 2.06-2.06.94zm10 10l.94 2.06.94-2.06 2.06-.94-2.06-.94-.94-2.06-.94 2.06-2.06.94z\"/><path d=\"M17.41 7.96l-1.37-1.37c-.4-.4-.92-.59-1.43-.59-.52 0-1.04.2-1.43.59L10.3 9.45l-7.72 7.72c-.78.78-.78 2.05 0 2.83L4 21.41c.39.39.9.59 1.41.59.51 0 1.02-.2 1.41-.59l7.78-7.78 2.81-2.81c.8-.78.8-2.07 0-2.86zM5.41 20L4 18.59l7.72-7.72 1.47 1.35L5.41 20z\"/>\n",
              "  </svg>\n",
              "      </button>\n",
              "      \n",
              "  <style>\n",
              "    .colab-df-container {\n",
              "      display:flex;\n",
              "      flex-wrap:wrap;\n",
              "      gap: 12px;\n",
              "    }\n",
              "\n",
              "    .colab-df-convert {\n",
              "      background-color: #E8F0FE;\n",
              "      border: none;\n",
              "      border-radius: 50%;\n",
              "      cursor: pointer;\n",
              "      display: none;\n",
              "      fill: #1967D2;\n",
              "      height: 32px;\n",
              "      padding: 0 0 0 0;\n",
              "      width: 32px;\n",
              "    }\n",
              "\n",
              "    .colab-df-convert:hover {\n",
              "      background-color: #E2EBFA;\n",
              "      box-shadow: 0px 1px 2px rgba(60, 64, 67, 0.3), 0px 1px 3px 1px rgba(60, 64, 67, 0.15);\n",
              "      fill: #174EA6;\n",
              "    }\n",
              "\n",
              "    [theme=dark] .colab-df-convert {\n",
              "      background-color: #3B4455;\n",
              "      fill: #D2E3FC;\n",
              "    }\n",
              "\n",
              "    [theme=dark] .colab-df-convert:hover {\n",
              "      background-color: #434B5C;\n",
              "      box-shadow: 0px 1px 3px 1px rgba(0, 0, 0, 0.15);\n",
              "      filter: drop-shadow(0px 1px 2px rgba(0, 0, 0, 0.3));\n",
              "      fill: #FFFFFF;\n",
              "    }\n",
              "  </style>\n",
              "\n",
              "      <script>\n",
              "        const buttonEl =\n",
              "          document.querySelector('#df-b7b450fd-74fe-4e14-8d0e-4787d550dd4c button.colab-df-convert');\n",
              "        buttonEl.style.display =\n",
              "          google.colab.kernel.accessAllowed ? 'block' : 'none';\n",
              "\n",
              "        async function convertToInteractive(key) {\n",
              "          const element = document.querySelector('#df-b7b450fd-74fe-4e14-8d0e-4787d550dd4c');\n",
              "          const dataTable =\n",
              "            await google.colab.kernel.invokeFunction('convertToInteractive',\n",
              "                                                     [key], {});\n",
              "          if (!dataTable) return;\n",
              "\n",
              "          const docLinkHtml = 'Like what you see? Visit the ' +\n",
              "            '<a target=\"_blank\" href=https://colab.research.google.com/notebooks/data_table.ipynb>data table notebook</a>'\n",
              "            + ' to learn more about interactive tables.';\n",
              "          element.innerHTML = '';\n",
              "          dataTable['output_type'] = 'display_data';\n",
              "          await google.colab.output.renderOutput(dataTable, element);\n",
              "          const docLink = document.createElement('div');\n",
              "          docLink.innerHTML = docLinkHtml;\n",
              "          element.appendChild(docLink);\n",
              "        }\n",
              "      </script>\n",
              "    </div>\n",
              "  </div>\n",
              "  "
            ]
          },
          "metadata": {},
          "execution_count": 86
        }
      ]
    },
    {
      "cell_type": "code",
      "source": [
        "df.info()"
      ],
      "metadata": {
        "colab": {
          "base_uri": "https://localhost:8080/"
        },
        "id": "Rl79lL_U0Lq8",
        "outputId": "14e8cc58-67b1-4785-c016-253cde6c4df9"
      },
      "execution_count": null,
      "outputs": [
        {
          "output_type": "stream",
          "name": "stdout",
          "text": [
            "<class 'pandas.core.frame.DataFrame'>\n",
            "RangeIndex: 50000 entries, 0 to 49999\n",
            "Data columns (total 5 columns):\n",
            " #   Column             Non-Null Count  Dtype \n",
            "---  ------             --------------  ----- \n",
            " 0   category           50000 non-null  object\n",
            " 1   headline           50000 non-null  object\n",
            " 2   links              50000 non-null  object\n",
            " 3   short_description  50000 non-null  object\n",
            " 4   keywords           47332 non-null  object\n",
            "dtypes: object(5)\n",
            "memory usage: 1.9+ MB\n"
          ]
        }
      ]
    },
    {
      "cell_type": "code",
      "source": [
        "df.category.unique()"
      ],
      "metadata": {
        "colab": {
          "base_uri": "https://localhost:8080/"
        },
        "id": "IR_aje2E0Ppe",
        "outputId": "5c359d95-9932-4345-eceb-3e3f5126cb6c"
      },
      "execution_count": null,
      "outputs": [
        {
          "output_type": "execute_result",
          "data": {
            "text/plain": [
              "array(['WELLNESS', 'POLITICS', 'ENTERTAINMENT', 'TRAVEL',\n",
              "       'STYLE & BEAUTY', 'PARENTING', 'FOOD & DRINK', 'WORLD NEWS',\n",
              "       'BUSINESS', 'SPORTS'], dtype=object)"
            ]
          },
          "metadata": {},
          "execution_count": 88
        }
      ]
    },
    {
      "cell_type": "code",
      "source": [
        "df.drop('links', axis = 1, inplace = True)"
      ],
      "metadata": {
        "id": "KJnvQakt0Ptt"
      },
      "execution_count": null,
      "outputs": []
    },
    {
      "cell_type": "code",
      "source": [
        "df.info()"
      ],
      "metadata": {
        "colab": {
          "base_uri": "https://localhost:8080/"
        },
        "id": "eVoJRGD51Bbi",
        "outputId": "77cd7b58-b35e-435d-8db5-378ef89d7ba6"
      },
      "execution_count": null,
      "outputs": [
        {
          "output_type": "stream",
          "name": "stdout",
          "text": [
            "<class 'pandas.core.frame.DataFrame'>\n",
            "RangeIndex: 50000 entries, 0 to 49999\n",
            "Data columns (total 4 columns):\n",
            " #   Column             Non-Null Count  Dtype \n",
            "---  ------             --------------  ----- \n",
            " 0   category           50000 non-null  object\n",
            " 1   headline           50000 non-null  object\n",
            " 2   short_description  50000 non-null  object\n",
            " 3   keywords           47332 non-null  object\n",
            "dtypes: object(4)\n",
            "memory usage: 1.5+ MB\n"
          ]
        }
      ]
    },
    {
      "cell_type": "code",
      "source": [
        "df.isnull().sum()"
      ],
      "metadata": {
        "colab": {
          "base_uri": "https://localhost:8080/"
        },
        "id": "HDNzwvmo1Ehf",
        "outputId": "5f3a46e3-04c6-4089-8670-06cc94a74558"
      },
      "execution_count": null,
      "outputs": [
        {
          "output_type": "execute_result",
          "data": {
            "text/plain": [
              "category                0\n",
              "headline                0\n",
              "short_description       0\n",
              "keywords             2668\n",
              "dtype: int64"
            ]
          },
          "metadata": {},
          "execution_count": 91
        }
      ]
    },
    {
      "cell_type": "code",
      "source": [
        "df1 = df.dropna(axis = 0)\n",
        "print(f\"Before dropping all NaN values: {df.shape}\")\n",
        "print(f\"After dropping all NaN values: {df1.shape}\")"
      ],
      "metadata": {
        "colab": {
          "base_uri": "https://localhost:8080/"
        },
        "id": "NGVaeKoT1KaO",
        "outputId": "34dceb24-5bf9-44c5-f62f-6780d28350fc"
      },
      "execution_count": null,
      "outputs": [
        {
          "output_type": "stream",
          "name": "stdout",
          "text": [
            "Before dropping all NaN values: (50000, 4)\n",
            "After dropping all NaN values: (47332, 4)\n"
          ]
        }
      ]
    },
    {
      "cell_type": "code",
      "source": [
        "object_dtypes = df.select_dtypes(include = 'object')\n",
        "object_dtypes.head()"
      ],
      "metadata": {
        "colab": {
          "base_uri": "https://localhost:8080/",
          "height": 206
        },
        "id": "egqWofCj1Z-v",
        "outputId": "e440b5a2-6a38-4181-ffc8-d0a6a9bcce4c"
      },
      "execution_count": null,
      "outputs": [
        {
          "output_type": "execute_result",
          "data": {
            "text/plain": [
              "   category                                           headline  \\\n",
              "0  WELLNESS              143 Miles in 35 Days: Lessons Learned   \n",
              "1  WELLNESS       Talking to Yourself: Crazy or Crazy Helpful?   \n",
              "2  WELLNESS  Crenezumab: Trial Will Gauge Whether Alzheimer...   \n",
              "3  WELLNESS                     Oh, What a Difference She Made   \n",
              "4  WELLNESS                                   Green Superfoods   \n",
              "\n",
              "                                   short_description  \\\n",
              "0  Resting is part of training. I've confirmed wh...   \n",
              "1  Think of talking to yourself as a tool to coac...   \n",
              "2  The clock is ticking for the United States to ...   \n",
              "3  If you want to be busy, keep trying to be perf...   \n",
              "4  First, the bad news: Soda bread, corned beef a...   \n",
              "\n",
              "                             keywords  \n",
              "0                     running-lessons  \n",
              "1           talking-to-yourself-crazy  \n",
              "2  crenezumab-alzheimers-disease-drug  \n",
              "3                     meaningful-life  \n",
              "4                    green-superfoods  "
            ],
            "text/html": [
              "\n",
              "  <div id=\"df-b6919dad-605d-424a-8237-14d7e12bd117\">\n",
              "    <div class=\"colab-df-container\">\n",
              "      <div>\n",
              "<style scoped>\n",
              "    .dataframe tbody tr th:only-of-type {\n",
              "        vertical-align: middle;\n",
              "    }\n",
              "\n",
              "    .dataframe tbody tr th {\n",
              "        vertical-align: top;\n",
              "    }\n",
              "\n",
              "    .dataframe thead th {\n",
              "        text-align: right;\n",
              "    }\n",
              "</style>\n",
              "<table border=\"1\" class=\"dataframe\">\n",
              "  <thead>\n",
              "    <tr style=\"text-align: right;\">\n",
              "      <th></th>\n",
              "      <th>category</th>\n",
              "      <th>headline</th>\n",
              "      <th>short_description</th>\n",
              "      <th>keywords</th>\n",
              "    </tr>\n",
              "  </thead>\n",
              "  <tbody>\n",
              "    <tr>\n",
              "      <th>0</th>\n",
              "      <td>WELLNESS</td>\n",
              "      <td>143 Miles in 35 Days: Lessons Learned</td>\n",
              "      <td>Resting is part of training. I've confirmed wh...</td>\n",
              "      <td>running-lessons</td>\n",
              "    </tr>\n",
              "    <tr>\n",
              "      <th>1</th>\n",
              "      <td>WELLNESS</td>\n",
              "      <td>Talking to Yourself: Crazy or Crazy Helpful?</td>\n",
              "      <td>Think of talking to yourself as a tool to coac...</td>\n",
              "      <td>talking-to-yourself-crazy</td>\n",
              "    </tr>\n",
              "    <tr>\n",
              "      <th>2</th>\n",
              "      <td>WELLNESS</td>\n",
              "      <td>Crenezumab: Trial Will Gauge Whether Alzheimer...</td>\n",
              "      <td>The clock is ticking for the United States to ...</td>\n",
              "      <td>crenezumab-alzheimers-disease-drug</td>\n",
              "    </tr>\n",
              "    <tr>\n",
              "      <th>3</th>\n",
              "      <td>WELLNESS</td>\n",
              "      <td>Oh, What a Difference She Made</td>\n",
              "      <td>If you want to be busy, keep trying to be perf...</td>\n",
              "      <td>meaningful-life</td>\n",
              "    </tr>\n",
              "    <tr>\n",
              "      <th>4</th>\n",
              "      <td>WELLNESS</td>\n",
              "      <td>Green Superfoods</td>\n",
              "      <td>First, the bad news: Soda bread, corned beef a...</td>\n",
              "      <td>green-superfoods</td>\n",
              "    </tr>\n",
              "  </tbody>\n",
              "</table>\n",
              "</div>\n",
              "      <button class=\"colab-df-convert\" onclick=\"convertToInteractive('df-b6919dad-605d-424a-8237-14d7e12bd117')\"\n",
              "              title=\"Convert this dataframe to an interactive table.\"\n",
              "              style=\"display:none;\">\n",
              "        \n",
              "  <svg xmlns=\"http://www.w3.org/2000/svg\" height=\"24px\"viewBox=\"0 0 24 24\"\n",
              "       width=\"24px\">\n",
              "    <path d=\"M0 0h24v24H0V0z\" fill=\"none\"/>\n",
              "    <path d=\"M18.56 5.44l.94 2.06.94-2.06 2.06-.94-2.06-.94-.94-2.06-.94 2.06-2.06.94zm-11 1L8.5 8.5l.94-2.06 2.06-.94-2.06-.94L8.5 2.5l-.94 2.06-2.06.94zm10 10l.94 2.06.94-2.06 2.06-.94-2.06-.94-.94-2.06-.94 2.06-2.06.94z\"/><path d=\"M17.41 7.96l-1.37-1.37c-.4-.4-.92-.59-1.43-.59-.52 0-1.04.2-1.43.59L10.3 9.45l-7.72 7.72c-.78.78-.78 2.05 0 2.83L4 21.41c.39.39.9.59 1.41.59.51 0 1.02-.2 1.41-.59l7.78-7.78 2.81-2.81c.8-.78.8-2.07 0-2.86zM5.41 20L4 18.59l7.72-7.72 1.47 1.35L5.41 20z\"/>\n",
              "  </svg>\n",
              "      </button>\n",
              "      \n",
              "  <style>\n",
              "    .colab-df-container {\n",
              "      display:flex;\n",
              "      flex-wrap:wrap;\n",
              "      gap: 12px;\n",
              "    }\n",
              "\n",
              "    .colab-df-convert {\n",
              "      background-color: #E8F0FE;\n",
              "      border: none;\n",
              "      border-radius: 50%;\n",
              "      cursor: pointer;\n",
              "      display: none;\n",
              "      fill: #1967D2;\n",
              "      height: 32px;\n",
              "      padding: 0 0 0 0;\n",
              "      width: 32px;\n",
              "    }\n",
              "\n",
              "    .colab-df-convert:hover {\n",
              "      background-color: #E2EBFA;\n",
              "      box-shadow: 0px 1px 2px rgba(60, 64, 67, 0.3), 0px 1px 3px 1px rgba(60, 64, 67, 0.15);\n",
              "      fill: #174EA6;\n",
              "    }\n",
              "\n",
              "    [theme=dark] .colab-df-convert {\n",
              "      background-color: #3B4455;\n",
              "      fill: #D2E3FC;\n",
              "    }\n",
              "\n",
              "    [theme=dark] .colab-df-convert:hover {\n",
              "      background-color: #434B5C;\n",
              "      box-shadow: 0px 1px 3px 1px rgba(0, 0, 0, 0.15);\n",
              "      filter: drop-shadow(0px 1px 2px rgba(0, 0, 0, 0.3));\n",
              "      fill: #FFFFFF;\n",
              "    }\n",
              "  </style>\n",
              "\n",
              "      <script>\n",
              "        const buttonEl =\n",
              "          document.querySelector('#df-b6919dad-605d-424a-8237-14d7e12bd117 button.colab-df-convert');\n",
              "        buttonEl.style.display =\n",
              "          google.colab.kernel.accessAllowed ? 'block' : 'none';\n",
              "\n",
              "        async function convertToInteractive(key) {\n",
              "          const element = document.querySelector('#df-b6919dad-605d-424a-8237-14d7e12bd117');\n",
              "          const dataTable =\n",
              "            await google.colab.kernel.invokeFunction('convertToInteractive',\n",
              "                                                     [key], {});\n",
              "          if (!dataTable) return;\n",
              "\n",
              "          const docLinkHtml = 'Like what you see? Visit the ' +\n",
              "            '<a target=\"_blank\" href=https://colab.research.google.com/notebooks/data_table.ipynb>data table notebook</a>'\n",
              "            + ' to learn more about interactive tables.';\n",
              "          element.innerHTML = '';\n",
              "          dataTable['output_type'] = 'display_data';\n",
              "          await google.colab.output.renderOutput(dataTable, element);\n",
              "          const docLink = document.createElement('div');\n",
              "          docLink.innerHTML = docLinkHtml;\n",
              "          element.appendChild(docLink);\n",
              "        }\n",
              "      </script>\n",
              "    </div>\n",
              "  </div>\n",
              "  "
            ]
          },
          "metadata": {},
          "execution_count": 93
        }
      ]
    },
    {
      "cell_type": "code",
      "source": [
        "from nltk.tokenize import TreebankWordTokenizer\n",
        "tokenizer = TreebankWordTokenizer()\n",
        "\n",
        "#stopwords\n",
        "nltk.download('stopwords')\n",
        "from nltk.corpus import stopwords\n",
        "stop_words = set(stopwords.words('english'))\n",
        "\n",
        "#stemmer\n",
        "from nltk.stem import PorterStemmer\n",
        "stemmer = PorterStemmer()\n",
        "\n",
        "#lemmatizer\n",
        "from nltk.stem import WordNetLemmatizer\n",
        "lemma = WordNetLemmatizer()"
      ],
      "metadata": {
        "colab": {
          "base_uri": "https://localhost:8080/"
        },
        "id": "pSMYRnG_1kg5",
        "outputId": "f379c66f-0431-4d87-f75d-72ac2c2d644c"
      },
      "execution_count": null,
      "outputs": [
        {
          "output_type": "stream",
          "name": "stderr",
          "text": [
            "[nltk_data] Downloading package stopwords to /root/nltk_data...\n",
            "[nltk_data]   Package stopwords is already up-to-date!\n"
          ]
        }
      ]
    },
    {
      "cell_type": "code",
      "source": [
        "def text_tokenization(text):\n",
        "    text = text.replace(\"n't\", ' not')\n",
        "    text = text.replace(\"'ve\", ' have')\n",
        "    text = text.replace(\"'m\", ' am')\n",
        "    text = text.replace(\"’s\", ' ')\n",
        "    text = text.replace(\"'s\", ' ')\n",
        "    text = text.encode('ascii', 'ignore').decode('ascii')\n",
        "    text = re.sub(\"[..,,ㆍ\\'\\\"’‘”“!?\\\\‘|\\(\\)\\[\\]\\<\\>`\\'◇…]\", \"\", text)\n",
        "    text = re.sub(r'[^a-zA-z]+', \" \", text) # only english remain\n",
        "    text = re.sub(\" +\", \" \", text) #remove multi-space\n",
        "    text = text.lower()\n",
        "    return \" \".join([stemmer.stem(word) for word in str(text).split()\n",
        "                     if word not in stop_words])\n",
        "\n",
        "def cnn_tokenization(text):\n",
        "    text = text.replace(\"n't\", ' not')\n",
        "    text = text.replace(\"'ve\", ' have')\n",
        "    text = text.replace(\"'m\", ' am')\n",
        "    text = text.replace(\"’s\", ' ')\n",
        "    text = text.replace(\"'s\", ' ')\n",
        "    text = text.encode('ascii', 'ignore').decode('ascii')\n",
        "    text = re.sub(\"[..,,ㆍ\\'\\\"’‘”“!?\\\\‘|\\(\\)\\[\\]\\<\\>`\\'◇…]\", \"\", text)\n",
        "    text = re.sub(r'[^a-zA-z]+', \" \", text) # only english remain\n",
        "    text = text.lower()\n",
        "    return [stemmer.stem(word) for word in str(text).split()\n",
        "                     if word not in stop_words]\n",
        "\n",
        "def only_lemmatization(text):\n",
        "    text = text.replace(\"n't\", ' not')\n",
        "    text = text.replace(\"'ve\", ' have')\n",
        "    text = text.replace(\"'m\", ' am')\n",
        "    text = text.replace(\"’s\", ' ')\n",
        "    text = text.replace(\"'s\", ' ')\n",
        "    text = text.encode('ascii', 'ignore').decode('ascii')\n",
        "    text = re.sub(\"[..,,ㆍ\\'\\\"’‘”“!?\\\\‘|\\(\\)\\[\\]\\<\\>`\\'◇…]\", \"\", text)\n",
        "    text = re.sub(r'[^a-zA-z]+', \" \", text) # only english remain\n",
        "    text = re.sub(\" +\", \" \", text) #remove multi-space\n",
        "    text = text.lower()\n",
        "    text = \" \".join([lemma.lemmatize(word, pos='v') for word in text.split() if word not in stop_words])\n",
        "    return text"
      ],
      "metadata": {
        "id": "mL9yYffB2RLc"
      },
      "execution_count": null,
      "outputs": []
    },
    {
      "cell_type": "code",
      "source": [
        "df_final = df[[\"category\",  \"keywords\"]]\n",
        "df_final[\"cleaned_headline\"] = df[\"headline\"].apply(text_tokenization)\n",
        "df_final[\"cleaned_description\"] = df[\"short_description\"].apply(text_tokenization)"
      ],
      "metadata": {
        "id": "9XNNVAxY2xn9"
      },
      "execution_count": null,
      "outputs": []
    },
    {
      "cell_type": "code",
      "source": [
        "df_final.head(2)"
      ],
      "metadata": {
        "colab": {
          "base_uri": "https://localhost:8080/",
          "height": 112
        },
        "id": "WbolZuIE3L2z",
        "outputId": "0be212fd-d3be-4882-eea6-5cbc424d5537"
      },
      "execution_count": null,
      "outputs": [
        {
          "output_type": "execute_result",
          "data": {
            "text/plain": [
              "   category                   keywords       cleaned_headline  \\\n",
              "0  WELLNESS            running-lessons  mile day lesson learn   \n",
              "1  WELLNESS  talking-to-yourself-crazy  talk crazi crazi help   \n",
              "\n",
              "                                 cleaned_description  \n",
              "0  rest part train confirm sort alreadi knew buil...  \n",
              "1  think talk tool coach challeng narrat experi c...  "
            ],
            "text/html": [
              "\n",
              "  <div id=\"df-818c03d5-850c-4c7c-8f6b-e56fb342f95f\">\n",
              "    <div class=\"colab-df-container\">\n",
              "      <div>\n",
              "<style scoped>\n",
              "    .dataframe tbody tr th:only-of-type {\n",
              "        vertical-align: middle;\n",
              "    }\n",
              "\n",
              "    .dataframe tbody tr th {\n",
              "        vertical-align: top;\n",
              "    }\n",
              "\n",
              "    .dataframe thead th {\n",
              "        text-align: right;\n",
              "    }\n",
              "</style>\n",
              "<table border=\"1\" class=\"dataframe\">\n",
              "  <thead>\n",
              "    <tr style=\"text-align: right;\">\n",
              "      <th></th>\n",
              "      <th>category</th>\n",
              "      <th>keywords</th>\n",
              "      <th>cleaned_headline</th>\n",
              "      <th>cleaned_description</th>\n",
              "    </tr>\n",
              "  </thead>\n",
              "  <tbody>\n",
              "    <tr>\n",
              "      <th>0</th>\n",
              "      <td>WELLNESS</td>\n",
              "      <td>running-lessons</td>\n",
              "      <td>mile day lesson learn</td>\n",
              "      <td>rest part train confirm sort alreadi knew buil...</td>\n",
              "    </tr>\n",
              "    <tr>\n",
              "      <th>1</th>\n",
              "      <td>WELLNESS</td>\n",
              "      <td>talking-to-yourself-crazy</td>\n",
              "      <td>talk crazi crazi help</td>\n",
              "      <td>think talk tool coach challeng narrat experi c...</td>\n",
              "    </tr>\n",
              "  </tbody>\n",
              "</table>\n",
              "</div>\n",
              "      <button class=\"colab-df-convert\" onclick=\"convertToInteractive('df-818c03d5-850c-4c7c-8f6b-e56fb342f95f')\"\n",
              "              title=\"Convert this dataframe to an interactive table.\"\n",
              "              style=\"display:none;\">\n",
              "        \n",
              "  <svg xmlns=\"http://www.w3.org/2000/svg\" height=\"24px\"viewBox=\"0 0 24 24\"\n",
              "       width=\"24px\">\n",
              "    <path d=\"M0 0h24v24H0V0z\" fill=\"none\"/>\n",
              "    <path d=\"M18.56 5.44l.94 2.06.94-2.06 2.06-.94-2.06-.94-.94-2.06-.94 2.06-2.06.94zm-11 1L8.5 8.5l.94-2.06 2.06-.94-2.06-.94L8.5 2.5l-.94 2.06-2.06.94zm10 10l.94 2.06.94-2.06 2.06-.94-2.06-.94-.94-2.06-.94 2.06-2.06.94z\"/><path d=\"M17.41 7.96l-1.37-1.37c-.4-.4-.92-.59-1.43-.59-.52 0-1.04.2-1.43.59L10.3 9.45l-7.72 7.72c-.78.78-.78 2.05 0 2.83L4 21.41c.39.39.9.59 1.41.59.51 0 1.02-.2 1.41-.59l7.78-7.78 2.81-2.81c.8-.78.8-2.07 0-2.86zM5.41 20L4 18.59l7.72-7.72 1.47 1.35L5.41 20z\"/>\n",
              "  </svg>\n",
              "      </button>\n",
              "      \n",
              "  <style>\n",
              "    .colab-df-container {\n",
              "      display:flex;\n",
              "      flex-wrap:wrap;\n",
              "      gap: 12px;\n",
              "    }\n",
              "\n",
              "    .colab-df-convert {\n",
              "      background-color: #E8F0FE;\n",
              "      border: none;\n",
              "      border-radius: 50%;\n",
              "      cursor: pointer;\n",
              "      display: none;\n",
              "      fill: #1967D2;\n",
              "      height: 32px;\n",
              "      padding: 0 0 0 0;\n",
              "      width: 32px;\n",
              "    }\n",
              "\n",
              "    .colab-df-convert:hover {\n",
              "      background-color: #E2EBFA;\n",
              "      box-shadow: 0px 1px 2px rgba(60, 64, 67, 0.3), 0px 1px 3px 1px rgba(60, 64, 67, 0.15);\n",
              "      fill: #174EA6;\n",
              "    }\n",
              "\n",
              "    [theme=dark] .colab-df-convert {\n",
              "      background-color: #3B4455;\n",
              "      fill: #D2E3FC;\n",
              "    }\n",
              "\n",
              "    [theme=dark] .colab-df-convert:hover {\n",
              "      background-color: #434B5C;\n",
              "      box-shadow: 0px 1px 3px 1px rgba(0, 0, 0, 0.15);\n",
              "      filter: drop-shadow(0px 1px 2px rgba(0, 0, 0, 0.3));\n",
              "      fill: #FFFFFF;\n",
              "    }\n",
              "  </style>\n",
              "\n",
              "      <script>\n",
              "        const buttonEl =\n",
              "          document.querySelector('#df-818c03d5-850c-4c7c-8f6b-e56fb342f95f button.colab-df-convert');\n",
              "        buttonEl.style.display =\n",
              "          google.colab.kernel.accessAllowed ? 'block' : 'none';\n",
              "\n",
              "        async function convertToInteractive(key) {\n",
              "          const element = document.querySelector('#df-818c03d5-850c-4c7c-8f6b-e56fb342f95f');\n",
              "          const dataTable =\n",
              "            await google.colab.kernel.invokeFunction('convertToInteractive',\n",
              "                                                     [key], {});\n",
              "          if (!dataTable) return;\n",
              "\n",
              "          const docLinkHtml = 'Like what you see? Visit the ' +\n",
              "            '<a target=\"_blank\" href=https://colab.research.google.com/notebooks/data_table.ipynb>data table notebook</a>'\n",
              "            + ' to learn more about interactive tables.';\n",
              "          element.innerHTML = '';\n",
              "          dataTable['output_type'] = 'display_data';\n",
              "          await google.colab.output.renderOutput(dataTable, element);\n",
              "          const docLink = document.createElement('div');\n",
              "          docLink.innerHTML = docLinkHtml;\n",
              "          element.appendChild(docLink);\n",
              "        }\n",
              "      </script>\n",
              "    </div>\n",
              "  </div>\n",
              "  "
            ]
          },
          "metadata": {},
          "execution_count": 97
        }
      ]
    },
    {
      "cell_type": "code",
      "source": [
        "df_wellness = df_final[df_final[\"category\"]==0]\n",
        "\n",
        "df_politics = df_final[df_final[\"category\"]==1]\n",
        "df_entertainment = df_final[df_final[\"category\"]==2]\n",
        "df_travel = df_final[df_final[\"category\"]==3]\n",
        "df_stylenbeauty = df_final[df_final[\"category\"]==4]\n",
        "df_parenting = df_final[df_final[\"category\"]==5]\n",
        "df_foodndrink = df_final[df_final[\"category\"]==6]\n",
        "df_worldnews = df_final[df_final[\"category\"]==7]\n",
        "df_business = df_final[df_final[\"category\"]==8]\n",
        "df_sports = df_final[df_final[\"category\"]==9]"
      ],
      "metadata": {
        "id": "9QEFIfme3N_A"
      },
      "execution_count": null,
      "outputs": []
    },
    {
      "cell_type": "code",
      "source": [
        "df[\"cleaned\"] = df[\"short_description\"].apply(text_tokenization)\n",
        "df.head(2)"
      ],
      "metadata": {
        "colab": {
          "base_uri": "https://localhost:8080/",
          "height": 191
        },
        "id": "6fyUdlQk4Llp",
        "outputId": "f1a4f576-b606-40ab-c568-75210f8ac1ee"
      },
      "execution_count": null,
      "outputs": [
        {
          "output_type": "execute_result",
          "data": {
            "text/plain": [
              "   category                                      headline  \\\n",
              "0  WELLNESS         143 Miles in 35 Days: Lessons Learned   \n",
              "1  WELLNESS  Talking to Yourself: Crazy or Crazy Helpful?   \n",
              "\n",
              "                                   short_description  \\\n",
              "0  Resting is part of training. I've confirmed wh...   \n",
              "1  Think of talking to yourself as a tool to coac...   \n",
              "\n",
              "                    keywords  \\\n",
              "0            running-lessons   \n",
              "1  talking-to-yourself-crazy   \n",
              "\n",
              "                                             cleaned  \n",
              "0  rest part train confirm sort alreadi knew buil...  \n",
              "1  think talk tool coach challeng narrat experi c...  "
            ],
            "text/html": [
              "\n",
              "  <div id=\"df-af70e9b8-5bd2-4f91-9edb-9a2e9b7d9d4d\">\n",
              "    <div class=\"colab-df-container\">\n",
              "      <div>\n",
              "<style scoped>\n",
              "    .dataframe tbody tr th:only-of-type {\n",
              "        vertical-align: middle;\n",
              "    }\n",
              "\n",
              "    .dataframe tbody tr th {\n",
              "        vertical-align: top;\n",
              "    }\n",
              "\n",
              "    .dataframe thead th {\n",
              "        text-align: right;\n",
              "    }\n",
              "</style>\n",
              "<table border=\"1\" class=\"dataframe\">\n",
              "  <thead>\n",
              "    <tr style=\"text-align: right;\">\n",
              "      <th></th>\n",
              "      <th>category</th>\n",
              "      <th>headline</th>\n",
              "      <th>short_description</th>\n",
              "      <th>keywords</th>\n",
              "      <th>cleaned</th>\n",
              "    </tr>\n",
              "  </thead>\n",
              "  <tbody>\n",
              "    <tr>\n",
              "      <th>0</th>\n",
              "      <td>WELLNESS</td>\n",
              "      <td>143 Miles in 35 Days: Lessons Learned</td>\n",
              "      <td>Resting is part of training. I've confirmed wh...</td>\n",
              "      <td>running-lessons</td>\n",
              "      <td>rest part train confirm sort alreadi knew buil...</td>\n",
              "    </tr>\n",
              "    <tr>\n",
              "      <th>1</th>\n",
              "      <td>WELLNESS</td>\n",
              "      <td>Talking to Yourself: Crazy or Crazy Helpful?</td>\n",
              "      <td>Think of talking to yourself as a tool to coac...</td>\n",
              "      <td>talking-to-yourself-crazy</td>\n",
              "      <td>think talk tool coach challeng narrat experi c...</td>\n",
              "    </tr>\n",
              "  </tbody>\n",
              "</table>\n",
              "</div>\n",
              "      <button class=\"colab-df-convert\" onclick=\"convertToInteractive('df-af70e9b8-5bd2-4f91-9edb-9a2e9b7d9d4d')\"\n",
              "              title=\"Convert this dataframe to an interactive table.\"\n",
              "              style=\"display:none;\">\n",
              "        \n",
              "  <svg xmlns=\"http://www.w3.org/2000/svg\" height=\"24px\"viewBox=\"0 0 24 24\"\n",
              "       width=\"24px\">\n",
              "    <path d=\"M0 0h24v24H0V0z\" fill=\"none\"/>\n",
              "    <path d=\"M18.56 5.44l.94 2.06.94-2.06 2.06-.94-2.06-.94-.94-2.06-.94 2.06-2.06.94zm-11 1L8.5 8.5l.94-2.06 2.06-.94-2.06-.94L8.5 2.5l-.94 2.06-2.06.94zm10 10l.94 2.06.94-2.06 2.06-.94-2.06-.94-.94-2.06-.94 2.06-2.06.94z\"/><path d=\"M17.41 7.96l-1.37-1.37c-.4-.4-.92-.59-1.43-.59-.52 0-1.04.2-1.43.59L10.3 9.45l-7.72 7.72c-.78.78-.78 2.05 0 2.83L4 21.41c.39.39.9.59 1.41.59.51 0 1.02-.2 1.41-.59l7.78-7.78 2.81-2.81c.8-.78.8-2.07 0-2.86zM5.41 20L4 18.59l7.72-7.72 1.47 1.35L5.41 20z\"/>\n",
              "  </svg>\n",
              "      </button>\n",
              "      \n",
              "  <style>\n",
              "    .colab-df-container {\n",
              "      display:flex;\n",
              "      flex-wrap:wrap;\n",
              "      gap: 12px;\n",
              "    }\n",
              "\n",
              "    .colab-df-convert {\n",
              "      background-color: #E8F0FE;\n",
              "      border: none;\n",
              "      border-radius: 50%;\n",
              "      cursor: pointer;\n",
              "      display: none;\n",
              "      fill: #1967D2;\n",
              "      height: 32px;\n",
              "      padding: 0 0 0 0;\n",
              "      width: 32px;\n",
              "    }\n",
              "\n",
              "    .colab-df-convert:hover {\n",
              "      background-color: #E2EBFA;\n",
              "      box-shadow: 0px 1px 2px rgba(60, 64, 67, 0.3), 0px 1px 3px 1px rgba(60, 64, 67, 0.15);\n",
              "      fill: #174EA6;\n",
              "    }\n",
              "\n",
              "    [theme=dark] .colab-df-convert {\n",
              "      background-color: #3B4455;\n",
              "      fill: #D2E3FC;\n",
              "    }\n",
              "\n",
              "    [theme=dark] .colab-df-convert:hover {\n",
              "      background-color: #434B5C;\n",
              "      box-shadow: 0px 1px 3px 1px rgba(0, 0, 0, 0.15);\n",
              "      filter: drop-shadow(0px 1px 2px rgba(0, 0, 0, 0.3));\n",
              "      fill: #FFFFFF;\n",
              "    }\n",
              "  </style>\n",
              "\n",
              "      <script>\n",
              "        const buttonEl =\n",
              "          document.querySelector('#df-af70e9b8-5bd2-4f91-9edb-9a2e9b7d9d4d button.colab-df-convert');\n",
              "        buttonEl.style.display =\n",
              "          google.colab.kernel.accessAllowed ? 'block' : 'none';\n",
              "\n",
              "        async function convertToInteractive(key) {\n",
              "          const element = document.querySelector('#df-af70e9b8-5bd2-4f91-9edb-9a2e9b7d9d4d');\n",
              "          const dataTable =\n",
              "            await google.colab.kernel.invokeFunction('convertToInteractive',\n",
              "                                                     [key], {});\n",
              "          if (!dataTable) return;\n",
              "\n",
              "          const docLinkHtml = 'Like what you see? Visit the ' +\n",
              "            '<a target=\"_blank\" href=https://colab.research.google.com/notebooks/data_table.ipynb>data table notebook</a>'\n",
              "            + ' to learn more about interactive tables.';\n",
              "          element.innerHTML = '';\n",
              "          dataTable['output_type'] = 'display_data';\n",
              "          await google.colab.output.renderOutput(dataTable, element);\n",
              "          const docLink = document.createElement('div');\n",
              "          docLink.innerHTML = docLinkHtml;\n",
              "          element.appendChild(docLink);\n",
              "        }\n",
              "      </script>\n",
              "    </div>\n",
              "  </div>\n",
              "  "
            ]
          },
          "metadata": {},
          "execution_count": 99
        }
      ]
    },
    {
      "cell_type": "code",
      "source": [
        "from sklearn.feature_extraction.text import CountVectorizer"
      ],
      "metadata": {
        "id": "V_d0YRZQ4UKG"
      },
      "execution_count": null,
      "outputs": []
    },
    {
      "cell_type": "code",
      "source": [
        "bow_transformer = CountVectorizer().fit(df['cleaned'])"
      ],
      "metadata": {
        "id": "3kxC7uqt4hnN"
      },
      "execution_count": null,
      "outputs": []
    },
    {
      "cell_type": "code",
      "source": [
        "category_bow = bow_transformer.transform(df['cleaned'])"
      ],
      "metadata": {
        "id": "GGKXcrO04hp9"
      },
      "execution_count": null,
      "outputs": []
    },
    {
      "cell_type": "code",
      "source": [
        "from sklearn.feature_extraction.text import TfidfTransformer\n",
        "\n",
        "tfidf_transformer = TfidfTransformer().fit(category_bow)"
      ],
      "metadata": {
        "id": "bNYW4BQd4htJ"
      },
      "execution_count": null,
      "outputs": []
    },
    {
      "cell_type": "code",
      "source": [
        "category_tfidf=tfidf_transformer.transform(category_bow)\n",
        "print(category_tfidf.shape)"
      ],
      "metadata": {
        "colab": {
          "base_uri": "https://localhost:8080/"
        },
        "id": "JzgPj_2L4hve",
        "outputId": "383ed36c-42df-4618-e295-b8c6182c5100"
      },
      "execution_count": null,
      "outputs": [
        {
          "output_type": "stream",
          "name": "stdout",
          "text": [
            "(50000, 29051)\n"
          ]
        }
      ]
    },
    {
      "cell_type": "code",
      "source": [
        "from sklearn.naive_bayes import MultinomialNB\n",
        "\n",
        "category_detect_model = MultinomialNB().fit(category_tfidf, df['category'])\n",
        "NB_predictions = category_detect_model.predict(category_tfidf)\n",
        "from sklearn.metrics import classification_report, confusion_matrix\n",
        "print(classification_report(df['category'], NB_predictions))\n",
        "print(confusion_matrix(df['category'], NB_predictions))"
      ],
      "metadata": {
        "colab": {
          "base_uri": "https://localhost:8080/"
        },
        "id": "WF-ZX-mI4hyY",
        "outputId": "ad482e78-5099-4953-f2e1-c484dc87587a"
      },
      "execution_count": null,
      "outputs": [
        {
          "output_type": "stream",
          "name": "stdout",
          "text": [
            "                precision    recall  f1-score   support\n",
            "\n",
            "      BUSINESS       0.73      0.78      0.75      5000\n",
            " ENTERTAINMENT       0.83      0.62      0.71      5000\n",
            "  FOOD & DRINK       0.82      0.80      0.81      5000\n",
            "     PARENTING       0.63      0.81      0.71      5000\n",
            "      POLITICS       0.79      0.70      0.74      5000\n",
            "        SPORTS       0.88      0.76      0.82      5000\n",
            "STYLE & BEAUTY       0.82      0.78      0.80      5000\n",
            "        TRAVEL       0.77      0.79      0.78      5000\n",
            "      WELLNESS       0.65      0.81      0.72      5000\n",
            "    WORLD NEWS       0.82      0.79      0.80      5000\n",
            "\n",
            "      accuracy                           0.76     50000\n",
            "     macro avg       0.77      0.76      0.76     50000\n",
            "  weighted avg       0.77      0.76      0.76     50000\n",
            "\n",
            "[[3902   40   54  218  191   44   43  104  321   83]\n",
            " [ 158 3122  147  460  149  140  303  177  257   87]\n",
            " [  86   45 3986  254   22   37   97  213  240   20]\n",
            " [ 110   82   85 4028   62   29   90   81  405   28]\n",
            " [ 359   84   38  211 3482   78   48   91  219  390]\n",
            " [ 120  101   97  270  126 3818  102   92  168  106]\n",
            " [ 111  143  103  279   41   48 3895  135  216   29]\n",
            " [ 141   60  170  220   51   50   86 3926  190  106]\n",
            " [ 132   42  163  345   58   25   50  105 4044   36]\n",
            " [ 232   38   20  141  252   48   37  152  150 3930]]\n"
          ]
        }
      ]
    },
    {
      "cell_type": "code",
      "source": [
        "# Logistic regression\n",
        "from sklearn.linear_model import LogisticRegression\n",
        "\n",
        "category_detect_model2 = LogisticRegression(solver='liblinear').fit(category_tfidf, df['category'])\n",
        "LR_predictions = category_detect_model2.predict(category_tfidf)\n",
        "print(classification_report(df['category'], LR_predictions))\n",
        "print(confusion_matrix(df['category'], LR_predictions))"
      ],
      "metadata": {
        "colab": {
          "base_uri": "https://localhost:8080/"
        },
        "id": "2L9XhPwi5CXc",
        "outputId": "9d2efaaf-5ad5-4ca4-daed-4668e5149bff"
      },
      "execution_count": null,
      "outputs": [
        {
          "output_type": "stream",
          "name": "stdout",
          "text": [
            "                precision    recall  f1-score   support\n",
            "\n",
            "      BUSINESS       0.78      0.79      0.78      5000\n",
            " ENTERTAINMENT       0.73      0.75      0.74      5000\n",
            "  FOOD & DRINK       0.80      0.84      0.82      5000\n",
            "     PARENTING       0.78      0.76      0.77      5000\n",
            "      POLITICS       0.79      0.71      0.75      5000\n",
            "        SPORTS       0.82      0.86      0.84      5000\n",
            "STYLE & BEAUTY       0.83      0.80      0.81      5000\n",
            "        TRAVEL       0.80      0.78      0.79      5000\n",
            "      WELLNESS       0.74      0.79      0.76      5000\n",
            "    WORLD NEWS       0.80      0.81      0.80      5000\n",
            "\n",
            "      accuracy                           0.79     50000\n",
            "     macro avg       0.79      0.79      0.79     50000\n",
            "  weighted avg       0.79      0.79      0.79     50000\n",
            "\n",
            "[[3931  102   73  119  216   78   50  106  220  105]\n",
            " [  88 3751  145  172  105  216  212  103  114   94]\n",
            " [  75  121 4188  103   20   84  109  155  117   28]\n",
            " [ 119  169  132 3779   67   81  123   99  390   41]\n",
            " [ 274  177   64  100 3550  140   59   89  134  413]\n",
            " [  40  175   79   65  106 4277   61   45   57   95]\n",
            " [  78  271  119  112   48   93 4005  112  129   33]\n",
            " [  92  172  220  110   56   82  125 3891  137  115]\n",
            " [ 163   88  212  219   63   71   76  112 3938   58]\n",
            " [ 162   96   34   92  240   79   32  132  107 4026]]\n"
          ]
        }
      ]
    },
    {
      "cell_type": "code",
      "source": [
        "X = df.iloc[:, [-1]].values\n",
        "y = df.iloc[:, 0].values"
      ],
      "metadata": {
        "id": "p0ajmS106Xky"
      },
      "execution_count": null,
      "outputs": []
    },
    {
      "cell_type": "code",
      "source": [
        "from sklearn.preprocessing import LabelEncoder\n",
        "le = LabelEncoder()\n",
        "X[:,0] = le.fit_transform(X[:,0])"
      ],
      "metadata": {
        "id": "sEuSkObe6XnD"
      },
      "execution_count": null,
      "outputs": []
    },
    {
      "cell_type": "code",
      "source": [
        "from sklearn.model_selection import train_test_split\n",
        "X_train, X_test, y_train, y_test = train_test_split(X, y, test_size = 0.30, random_state = 0)"
      ],
      "metadata": {
        "id": "iEDKIDbo6Xqf"
      },
      "execution_count": null,
      "outputs": []
    },
    {
      "cell_type": "code",
      "source": [
        "from sklearn.preprocessing import StandardScaler\n",
        "sc = StandardScaler()\n",
        "X_train = sc.fit_transform(X_train)\n",
        "X_test = sc.transform(X_test)"
      ],
      "metadata": {
        "id": "WcfUmUws62iR"
      },
      "execution_count": null,
      "outputs": []
    },
    {
      "cell_type": "code",
      "source": [
        "from sklearn.neighbors import KNeighborsClassifier\n",
        "classifier = KNeighborsClassifier(n_neighbors = 5, metric = 'minkowski', p = 2)\n",
        "classifier.fit(X_train, y_train)"
      ],
      "metadata": {
        "colab": {
          "base_uri": "https://localhost:8080/"
        },
        "id": "8PhIbcSZ62kx",
        "outputId": "f0c762e8-1ba5-4aed-e788-3a75f156a27f"
      },
      "execution_count": null,
      "outputs": [
        {
          "output_type": "execute_result",
          "data": {
            "text/plain": [
              "KNeighborsClassifier()"
            ]
          },
          "metadata": {},
          "execution_count": 111
        }
      ]
    },
    {
      "cell_type": "code",
      "source": [
        "y_pred = classifier.predict(X_test)"
      ],
      "metadata": {
        "id": "zups_xbX62oJ"
      },
      "execution_count": null,
      "outputs": []
    },
    {
      "cell_type": "code",
      "source": [
        "from sklearn.metrics import confusion_matrix,accuracy_score\n",
        "knn_cm = confusion_matrix(y_test, y_pred)\n",
        "knn_ac = accuracy_score(y_test,y_pred)"
      ],
      "metadata": {
        "id": "Grd2_n7d7N2E"
      },
      "execution_count": null,
      "outputs": []
    },
    {
      "cell_type": "code",
      "source": [
        "knn_ac"
      ],
      "metadata": {
        "colab": {
          "base_uri": "https://localhost:8080/"
        },
        "id": "iGFToYPV7SVe",
        "outputId": "dcfbed3c-40a8-4a6c-a928-8b3ec418d024"
      },
      "execution_count": null,
      "outputs": [
        {
          "output_type": "execute_result",
          "data": {
            "text/plain": [
              "0.2875333333333333"
            ]
          },
          "metadata": {},
          "execution_count": 114
        }
      ]
    },
    {
      "cell_type": "code",
      "source": [
        "\n",
        "random_forest = RandomForestClassifier(n_estimators=100)\n",
        "random_forest.fit(X_train, y_train)\n",
        "# Predict Output\n",
        "rf_predicted = random_forest.predict(X_test)\n",
        "\n",
        "random_forest_score = round(random_forest.score(X_train, y_train) * 100, 2)\n",
        "random_forest_score_test = round(random_forest.score(X_test, y_test) * 100, 2)\n",
        "print('Random Forest Score: \\n', random_forest_score)\n",
        "print('Random Forest Test Score: \\n', random_forest_score_test)\n",
        "print('Accuracy: \\n', accuracy_score(y_test,rf_predicted))\n",
        "print(confusion_matrix(y_test,rf_predicted))\n",
        "print(classification_report(y_test,rf_predicted))"
      ],
      "metadata": {
        "colab": {
          "base_uri": "https://localhost:8080/"
        },
        "id": "5yC9pQzj8QJt",
        "outputId": "0d8b4bcc-5748-4501-80b1-8e80355fdbce"
      },
      "execution_count": null,
      "outputs": [
        {
          "output_type": "stream",
          "name": "stdout",
          "text": [
            "Random Forest Score: \n",
            " 99.82\n",
            "Random Forest Test Score: \n",
            " 32.85\n",
            "Accuracy: \n",
            " 0.3284666666666667\n",
            "[[ 895   54   75   78   71   47   49   60   66   61]\n",
            " [  98  367  138  122  119  114  173  127  123  127]\n",
            " [  88  139  379  152  107   72  142  181  177   73]\n",
            " [  98  121  158  321  121   67  140  134  189  115]\n",
            " [ 126  136   95  106  418   91   87  122  127  211]\n",
            " [  30   69   39   42   74 1070   37   58   65   43]\n",
            " [  87  168  147  141   95   81  416  163  112  111]\n",
            " [  93  140  183  173  123   69  151  278  150  152]\n",
            " [ 117  135  181  191  118   84  126  127  321   98]\n",
            " [ 125  130   81   90  190   91   71  135  110  462]]\n",
            "                precision    recall  f1-score   support\n",
            "\n",
            "      BUSINESS       0.51      0.61      0.56      1456\n",
            " ENTERTAINMENT       0.25      0.24      0.25      1508\n",
            "  FOOD & DRINK       0.26      0.25      0.25      1510\n",
            "     PARENTING       0.23      0.22      0.22      1464\n",
            "      POLITICS       0.29      0.28      0.28      1519\n",
            "        SPORTS       0.60      0.70      0.65      1527\n",
            "STYLE & BEAUTY       0.30      0.27      0.29      1521\n",
            "        TRAVEL       0.20      0.18      0.19      1512\n",
            "      WELLNESS       0.22      0.21      0.22      1498\n",
            "    WORLD NEWS       0.32      0.31      0.31      1485\n",
            "\n",
            "      accuracy                           0.33     15000\n",
            "     macro avg       0.32      0.33      0.32     15000\n",
            "  weighted avg       0.32      0.33      0.32     15000\n",
            "\n"
          ]
        }
      ]
    },
    {
      "cell_type": "code",
      "source": [],
      "metadata": {
        "id": "lqQc_51u8YhX"
      },
      "execution_count": null,
      "outputs": []
    }
  ]
}